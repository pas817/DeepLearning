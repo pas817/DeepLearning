{
 "cells": [
  {
   "attachments": {},
   "cell_type": "markdown",
   "metadata": {},
   "source": [
    "# Perceptron"
   ]
  },
  {
   "cell_type": "code",
   "execution_count": 27,
   "metadata": {},
   "outputs": [],
   "source": [
    "import numpy as np"
   ]
  },
  {
   "cell_type": "code",
   "execution_count": 34,
   "metadata": {},
   "outputs": [],
   "source": [
    "# 1-layer perceptron\n",
    "def AND(x1, x2):\n",
    "    x = np.array([x1, x2])\n",
    "    w = np.array([0.5, 0.5])\n",
    "    bias = -0.5\n",
    "    temp = np.sum(x*w) + bias\n",
    "\n",
    "    if temp <= 0: return 0\n",
    "    else:         return 1\n",
    "\n",
    "def NAND(x1, x2):\n",
    "    x = np.array([x1, x2])\n",
    "    w = np.array([-0.5, -0.5])\n",
    "    bias = 0.6\n",
    "    temp = np.sum(x*w) + bias\n",
    "\n",
    "    if temp <= 0: return 0\n",
    "    else:         return 1\n",
    "\n",
    "def OR(x1, x2):\n",
    "    x = np.array([x1, x2])\n",
    "    w = np.array([0.5, 0.5])\n",
    "    bias = -0.1\n",
    "    temp = np.sum(x*w) + bias\n",
    "\n",
    "    if temp <= 0: return 0\n",
    "    else:         return 1\n",
    "\n",
    "# 2-layer perceptron\n",
    "def XOR(x1, x2):\n",
    "    s1 = NAND(x1, x2)\n",
    "    s2 = OR(x1, x2)\n",
    "    return AND(s1, s2)"
   ]
  },
  {
   "cell_type": "code",
   "execution_count": 35,
   "metadata": {},
   "outputs": [
    {
     "name": "stdout",
     "output_type": "stream",
     "text": [
      "AND(0, 0) = 0\n",
      "NAND(0, 0) = 1\n",
      "OR(0, 0) = 0\n",
      "XOR(0, 0) = 0\n",
      "\n",
      "AND(0, 1) = 0\n",
      "NAND(0, 1) = 1\n",
      "OR(0, 1) = 1\n",
      "XOR(0, 1) = 1\n",
      "\n",
      "AND(1, 0) = 0\n",
      "NAND(1, 0) = 1\n",
      "OR(1, 0) = 1\n",
      "XOR(1, 0) = 1\n",
      "\n",
      "AND(1, 1) = 1\n",
      "NAND(1, 1) = 0\n",
      "OR(1, 1) = 1\n",
      "XOR(1, 1) = 0\n",
      "\n"
     ]
    }
   ],
   "source": [
    "x1 = np.array([0, 1])\n",
    "x2 = np.array([0, 1])\n",
    "\n",
    "for x in x1:\n",
    "    for y in x2:\n",
    "        print(\"AND({0}, {1}) = {2}\".format(x, y, AND(x, y)))\n",
    "        print(\"NAND({0}, {1}) = {2}\".format(x, y, NAND(x, y)))\n",
    "        print(\"OR({0}, {1}) = {2}\".format(x, y, OR(x, y)))\n",
    "        print(\"XOR({0}, {1}) = {2}\".format(x, y, XOR(x, y)))\n",
    "        print()"
   ]
  }
 ],
 "metadata": {
  "kernelspec": {
   "display_name": "base",
   "language": "python",
   "name": "python3"
  },
  "language_info": {
   "codemirror_mode": {
    "name": "ipython",
    "version": 3
   },
   "file_extension": ".py",
   "mimetype": "text/x-python",
   "name": "python",
   "nbconvert_exporter": "python",
   "pygments_lexer": "ipython3",
   "version": "3.9.13"
  },
  "orig_nbformat": 4
 },
 "nbformat": 4,
 "nbformat_minor": 2
}
